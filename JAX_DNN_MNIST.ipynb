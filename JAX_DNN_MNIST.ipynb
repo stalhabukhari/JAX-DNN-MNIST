{
  "nbformat": 4,
  "nbformat_minor": 0,
  "metadata": {
    "colab": {
      "name": "JAX-DNN-MNIST.ipynb",
      "provenance": [],
      "collapsed_sections": [],
      "include_colab_link": true
    },
    "kernelspec": {
      "name": "python3",
      "display_name": "Python 3"
    },
    "language_info": {
      "name": "python"
    },
    "accelerator": "GPU",
    "widgets": {
      "application/vnd.jupyter.widget-state+json": {
        "9deb0c7ca95c46e19747de4b783819c8": {
          "model_module": "@jupyter-widgets/controls",
          "model_name": "HBoxModel",
          "state": {
            "_view_name": "HBoxView",
            "_dom_classes": [],
            "_model_name": "HBoxModel",
            "_view_module": "@jupyter-widgets/controls",
            "_model_module_version": "1.5.0",
            "_view_count": null,
            "_view_module_version": "1.5.0",
            "box_style": "",
            "layout": "IPY_MODEL_9606edc2dffa4f54ae35c39831b94088",
            "_model_module": "@jupyter-widgets/controls",
            "children": [
              "IPY_MODEL_f6b019bc270c4d38a76f67946593bb18",
              "IPY_MODEL_5ac2a98caead44d7a644e08bee12a7d8"
            ]
          }
        },
        "9606edc2dffa4f54ae35c39831b94088": {
          "model_module": "@jupyter-widgets/base",
          "model_name": "LayoutModel",
          "state": {
            "_view_name": "LayoutView",
            "grid_template_rows": null,
            "right": null,
            "justify_content": null,
            "_view_module": "@jupyter-widgets/base",
            "overflow": null,
            "_model_module_version": "1.2.0",
            "_view_count": null,
            "flex_flow": null,
            "width": null,
            "min_width": null,
            "border": null,
            "align_items": null,
            "bottom": null,
            "_model_module": "@jupyter-widgets/base",
            "top": null,
            "grid_column": null,
            "overflow_y": null,
            "overflow_x": null,
            "grid_auto_flow": null,
            "grid_area": null,
            "grid_template_columns": null,
            "flex": null,
            "_model_name": "LayoutModel",
            "justify_items": null,
            "grid_row": null,
            "max_height": null,
            "align_content": null,
            "visibility": null,
            "align_self": null,
            "height": null,
            "min_height": null,
            "padding": null,
            "grid_auto_rows": null,
            "grid_gap": null,
            "max_width": null,
            "order": null,
            "_view_module_version": "1.2.0",
            "grid_template_areas": null,
            "object_position": null,
            "object_fit": null,
            "grid_auto_columns": null,
            "margin": null,
            "display": null,
            "left": null
          }
        },
        "f6b019bc270c4d38a76f67946593bb18": {
          "model_module": "@jupyter-widgets/controls",
          "model_name": "FloatProgressModel",
          "state": {
            "_view_name": "ProgressView",
            "style": "IPY_MODEL_fd0147c782e54d53960ce11d8a075dd9",
            "_dom_classes": [],
            "description": "Dl Completed...: 100%",
            "_model_name": "FloatProgressModel",
            "bar_style": "success",
            "max": 4,
            "_view_module": "@jupyter-widgets/controls",
            "_model_module_version": "1.5.0",
            "value": 4,
            "_view_count": null,
            "_view_module_version": "1.5.0",
            "orientation": "horizontal",
            "min": 0,
            "description_tooltip": null,
            "_model_module": "@jupyter-widgets/controls",
            "layout": "IPY_MODEL_2ffb726a1426478abed4b7130664379c"
          }
        },
        "5ac2a98caead44d7a644e08bee12a7d8": {
          "model_module": "@jupyter-widgets/controls",
          "model_name": "HTMLModel",
          "state": {
            "_view_name": "HTMLView",
            "style": "IPY_MODEL_1d87a9ac0f2743b88b95fc32a395b26b",
            "_dom_classes": [],
            "description": "",
            "_model_name": "HTMLModel",
            "placeholder": "​",
            "_view_module": "@jupyter-widgets/controls",
            "_model_module_version": "1.5.0",
            "value": " 4/4 [00:05&lt;00:00,  1.49s/ file]",
            "_view_count": null,
            "_view_module_version": "1.5.0",
            "description_tooltip": null,
            "_model_module": "@jupyter-widgets/controls",
            "layout": "IPY_MODEL_97b10bb3d5d6414ab70044735ad8e748"
          }
        },
        "fd0147c782e54d53960ce11d8a075dd9": {
          "model_module": "@jupyter-widgets/controls",
          "model_name": "ProgressStyleModel",
          "state": {
            "_view_name": "StyleView",
            "_model_name": "ProgressStyleModel",
            "description_width": "initial",
            "_view_module": "@jupyter-widgets/base",
            "_model_module_version": "1.5.0",
            "_view_count": null,
            "_view_module_version": "1.2.0",
            "bar_color": null,
            "_model_module": "@jupyter-widgets/controls"
          }
        },
        "2ffb726a1426478abed4b7130664379c": {
          "model_module": "@jupyter-widgets/base",
          "model_name": "LayoutModel",
          "state": {
            "_view_name": "LayoutView",
            "grid_template_rows": null,
            "right": null,
            "justify_content": null,
            "_view_module": "@jupyter-widgets/base",
            "overflow": null,
            "_model_module_version": "1.2.0",
            "_view_count": null,
            "flex_flow": null,
            "width": null,
            "min_width": null,
            "border": null,
            "align_items": null,
            "bottom": null,
            "_model_module": "@jupyter-widgets/base",
            "top": null,
            "grid_column": null,
            "overflow_y": null,
            "overflow_x": null,
            "grid_auto_flow": null,
            "grid_area": null,
            "grid_template_columns": null,
            "flex": null,
            "_model_name": "LayoutModel",
            "justify_items": null,
            "grid_row": null,
            "max_height": null,
            "align_content": null,
            "visibility": null,
            "align_self": null,
            "height": null,
            "min_height": null,
            "padding": null,
            "grid_auto_rows": null,
            "grid_gap": null,
            "max_width": null,
            "order": null,
            "_view_module_version": "1.2.0",
            "grid_template_areas": null,
            "object_position": null,
            "object_fit": null,
            "grid_auto_columns": null,
            "margin": null,
            "display": null,
            "left": null
          }
        },
        "1d87a9ac0f2743b88b95fc32a395b26b": {
          "model_module": "@jupyter-widgets/controls",
          "model_name": "DescriptionStyleModel",
          "state": {
            "_view_name": "StyleView",
            "_model_name": "DescriptionStyleModel",
            "description_width": "",
            "_view_module": "@jupyter-widgets/base",
            "_model_module_version": "1.5.0",
            "_view_count": null,
            "_view_module_version": "1.2.0",
            "_model_module": "@jupyter-widgets/controls"
          }
        },
        "97b10bb3d5d6414ab70044735ad8e748": {
          "model_module": "@jupyter-widgets/base",
          "model_name": "LayoutModel",
          "state": {
            "_view_name": "LayoutView",
            "grid_template_rows": null,
            "right": null,
            "justify_content": null,
            "_view_module": "@jupyter-widgets/base",
            "overflow": null,
            "_model_module_version": "1.2.0",
            "_view_count": null,
            "flex_flow": null,
            "width": null,
            "min_width": null,
            "border": null,
            "align_items": null,
            "bottom": null,
            "_model_module": "@jupyter-widgets/base",
            "top": null,
            "grid_column": null,
            "overflow_y": null,
            "overflow_x": null,
            "grid_auto_flow": null,
            "grid_area": null,
            "grid_template_columns": null,
            "flex": null,
            "_model_name": "LayoutModel",
            "justify_items": null,
            "grid_row": null,
            "max_height": null,
            "align_content": null,
            "visibility": null,
            "align_self": null,
            "height": null,
            "min_height": null,
            "padding": null,
            "grid_auto_rows": null,
            "grid_gap": null,
            "max_width": null,
            "order": null,
            "_view_module_version": "1.2.0",
            "grid_template_areas": null,
            "object_position": null,
            "object_fit": null,
            "grid_auto_columns": null,
            "margin": null,
            "display": null,
            "left": null
          }
        }
      }
    }
  },
  "cells": [
    {
      "cell_type": "markdown",
      "metadata": {
        "id": "view-in-github",
        "colab_type": "text"
      },
      "source": [
        "<a href=\"https://colab.research.google.com/github/stalhabukhari/JAX-DNN-MNIST/blob/main/JAX_DNN_MNIST.ipynb\" target=\"_parent\"><img src=\"https://colab.research.google.com/assets/colab-badge.svg\" alt=\"Open In Colab\"/></a>"
      ]
    },
    {
      "cell_type": "markdown",
      "metadata": {
        "id": "0Iij72wU_tHJ"
      },
      "source": [
        "# MNIST DNN in JAX\n",
        "\n",
        "In this notebook:\n",
        "- A fully-connected network is implemented in `jax`.\n",
        "- `tensorflow_datasets` is used for a nifty data pipeline.\n",
        "\n",
        "This notebook is for instructional purposes only."
      ]
    },
    {
      "cell_type": "markdown",
      "metadata": {
        "id": "N3Z3Z8zh_znJ"
      },
      "source": [
        "### Installation"
      ]
    },
    {
      "cell_type": "code",
      "metadata": {
        "id": "9nxqUk30oeVv",
        "colab": {
          "base_uri": "https://localhost:8080/"
        },
        "outputId": "f6b679d6-7be3-4910-bbc9-c7eeda21c0cb"
      },
      "source": [
        "!nvcc --version\n",
        "# Install the latest JAXlib version.\n",
        "# !pip install --upgrade -q pip jax jaxlib\n",
        "!pip install --upgrade jax jaxlib==0.1.67+cuda110 -f https://storage.googleapis.com/jax-releases/jax_releases.html"
      ],
      "execution_count": null,
      "outputs": [
        {
          "output_type": "stream",
          "text": [
            "nvcc: NVIDIA (R) Cuda compiler driver\n",
            "Copyright (c) 2005-2020 NVIDIA Corporation\n",
            "Built on Wed_Jul_22_19:09:09_PDT_2020\n",
            "Cuda compilation tools, release 11.0, V11.0.221\n",
            "Build cuda_11.0_bu.TC445_37.28845127_0\n",
            "Looking in links: https://storage.googleapis.com/jax-releases/jax_releases.html\n",
            "Collecting jax\n",
            "\u001b[?25l  Downloading https://files.pythonhosted.org/packages/5b/9c/b6b50dad0201afc5c5123dc609b02788733822adfca433ae335d17890d60/jax-0.2.14.tar.gz (669kB)\n",
            "\u001b[K     |████████████████████████████████| 675kB 7.6MB/s \n",
            "\u001b[?25hCollecting jaxlib==0.1.67+cuda110\n",
            "\u001b[?25l  Downloading https://storage.googleapis.com/jax-releases/cuda110/jaxlib-0.1.67%2Bcuda110-cp37-none-manylinux2010_x86_64.whl (172.6MB)\n",
            "\u001b[K     |████████████████████████████████| 172.6MB 86kB/s \n",
            "\u001b[?25hRequirement already satisfied, skipping upgrade: numpy>=1.12 in /usr/local/lib/python3.7/dist-packages (from jax) (1.19.5)\n",
            "Requirement already satisfied, skipping upgrade: absl-py in /usr/local/lib/python3.7/dist-packages (from jax) (0.12.0)\n",
            "Requirement already satisfied, skipping upgrade: opt_einsum in /usr/local/lib/python3.7/dist-packages (from jax) (3.3.0)\n",
            "Requirement already satisfied, skipping upgrade: scipy in /usr/local/lib/python3.7/dist-packages (from jaxlib==0.1.67+cuda110) (1.4.1)\n",
            "Requirement already satisfied, skipping upgrade: flatbuffers<3.0,>=1.12 in /usr/local/lib/python3.7/dist-packages (from jaxlib==0.1.67+cuda110) (1.12)\n",
            "Requirement already satisfied, skipping upgrade: six in /usr/local/lib/python3.7/dist-packages (from absl-py->jax) (1.15.0)\n",
            "Building wheels for collected packages: jax\n",
            "  Building wheel for jax (setup.py) ... \u001b[?25l\u001b[?25hdone\n",
            "  Created wheel for jax: filename=jax-0.2.14-cp37-none-any.whl size=771355 sha256=49413fc6c5cd2d5cce97f45d8c57fbacfbd4138f245ce4cc7a57aee7d726f69f\n",
            "  Stored in directory: /root/.cache/pip/wheels/3a/ca/91/9e1f07c9a49b16e0a22112e77e579d5a987009459f130d998b\n",
            "Successfully built jax\n",
            "Installing collected packages: jax, jaxlib\n",
            "  Found existing installation: jax 0.2.13\n",
            "    Uninstalling jax-0.2.13:\n",
            "      Successfully uninstalled jax-0.2.13\n",
            "  Found existing installation: jaxlib 0.1.66+cuda110\n",
            "    Uninstalling jaxlib-0.1.66+cuda110:\n",
            "      Successfully uninstalled jaxlib-0.1.66+cuda110\n",
            "Successfully installed jax-0.2.14 jaxlib-0.1.67+cuda110\n"
          ],
          "name": "stdout"
        }
      ]
    },
    {
      "cell_type": "markdown",
      "metadata": {
        "id": "Saw5A7crABOE"
      },
      "source": [
        "### Imports"
      ]
    },
    {
      "cell_type": "code",
      "metadata": {
        "id": "WzjQ6I41oKxj",
        "colab": {
          "base_uri": "https://localhost:8080/",
          "height": 36
        },
        "outputId": "2e94d852-91cf-4c65-9872-f9a195a6bbd9"
      },
      "source": [
        "import time, itertools\n",
        "from functools import partial\n",
        "import numpy as np\n",
        "import matplotlib.pyplot as plt\n",
        "\n",
        "import tensorflow as tf\n",
        "import tensorflow_datasets as tfds\n",
        "\n",
        "import jax\n",
        "import jax.numpy as jnp\n",
        "from jax import jit, grad, random\n",
        "from jax.experimental import optimizers\n",
        "from jax.experimental import stax\n",
        "\n",
        "from jax.lib import xla_bridge\n",
        "assert xla_bridge.get_backend().platform=='gpu' and jax.local_device_count()\n",
        "jax.__version__"
      ],
      "execution_count": null,
      "outputs": [
        {
          "output_type": "execute_result",
          "data": {
            "application/vnd.google.colaboratory.intrinsic+json": {
              "type": "string"
            },
            "text/plain": [
              "'0.2.14'"
            ]
          },
          "metadata": {
            "tags": []
          },
          "execution_count": 2
        }
      ]
    },
    {
      "cell_type": "markdown",
      "metadata": {
        "id": "EhMfAUrTADPM"
      },
      "source": [
        "### Configurations"
      ]
    },
    {
      "cell_type": "code",
      "metadata": {
        "id": "f83mAWiqzzK-"
      },
      "source": [
        "num_classes = 10\n",
        "reshape_args = [(-1, 28*28), (-1,)]\n",
        "input_shape = reshape_args[0]\n",
        "\n",
        "step_size = 0.001\n",
        "num_epochs = 10\n",
        "batch_size = 128\n",
        "momentum_mass = 0.9\n",
        "rng = random.PRNGKey(0)"
      ],
      "execution_count": null,
      "outputs": []
    },
    {
      "cell_type": "markdown",
      "metadata": {
        "id": "Aqp0ODMpAHAK"
      },
      "source": [
        "### Dataset (via `tensorflow_datasets`)"
      ]
    },
    {
      "cell_type": "code",
      "metadata": {
        "id": "B1AGR_5eAcnc",
        "colab": {
          "base_uri": "https://localhost:8080/",
          "height": 269,
          "referenced_widgets": [
            "9deb0c7ca95c46e19747de4b783819c8",
            "9606edc2dffa4f54ae35c39831b94088",
            "f6b019bc270c4d38a76f67946593bb18",
            "5ac2a98caead44d7a644e08bee12a7d8",
            "fd0147c782e54d53960ce11d8a075dd9",
            "2ffb726a1426478abed4b7130664379c",
            "1d87a9ac0f2743b88b95fc32a395b26b",
            "97b10bb3d5d6414ab70044735ad8e748"
          ]
        },
        "outputId": "b8436fd2-beae-433f-ab41-22cfcbd83fa2"
      },
      "source": [
        "# Training Data\n",
        "ds_train = tfds.load('mnist', split='train', shuffle_files=True)\n",
        "total_train_imgs = len(ds_train)\n",
        "print(f'Training Set Images: {total_train_imgs}')\n",
        "ds_train = ds_train.shuffle(1024).batch(batch_size).prefetch(tf.data.experimental.AUTOTUNE)\n",
        "ds_train = tfds.as_numpy(ds_train)\n",
        "\n",
        "# Testing Data\n",
        "ds_test = tfds.load('mnist', split='test', shuffle_files=False)\n",
        "total_test_imgs = len(ds_test)\n",
        "print(f'Testing Set Images: {total_test_imgs}')\n",
        "ds_test = ds_test.shuffle(1024).batch(batch_size).prefetch(tf.data.experimental.AUTOTUNE)\n",
        "ds_test = tfds.as_numpy(ds_test)"
      ],
      "execution_count": null,
      "outputs": [
        {
          "output_type": "stream",
          "text": [
            "\u001b[1mDownloading and preparing dataset mnist/3.0.1 (download: 11.06 MiB, generated: 21.00 MiB, total: 32.06 MiB) to /root/tensorflow_datasets/mnist/3.0.1...\u001b[0m\n"
          ],
          "name": "stdout"
        },
        {
          "output_type": "stream",
          "text": [
            "WARNING:absl:Dataset mnist is hosted on GCS. It will automatically be downloaded to your\n",
            "local data directory. If you'd instead prefer to read directly from our public\n",
            "GCS bucket (recommended if you're running on GCP), you can instead pass\n",
            "`try_gcs=True` to `tfds.load` or set `data_dir=gs://tfds-data/datasets`.\n",
            "\n"
          ],
          "name": "stderr"
        },
        {
          "output_type": "display_data",
          "data": {
            "application/vnd.jupyter.widget-view+json": {
              "model_id": "9deb0c7ca95c46e19747de4b783819c8",
              "version_minor": 0,
              "version_major": 2
            },
            "text/plain": [
              "HBox(children=(FloatProgress(value=0.0, description='Dl Completed...', max=4.0, style=ProgressStyle(descriptio…"
            ]
          },
          "metadata": {
            "tags": []
          }
        },
        {
          "output_type": "stream",
          "text": [
            "\n",
            "\n",
            "\u001b[1mDataset mnist downloaded and prepared to /root/tensorflow_datasets/mnist/3.0.1. Subsequent calls will reuse this data.\u001b[0m\n",
            "Training Set Images: 60000\n",
            "Testing Set Images: 10000\n"
          ],
          "name": "stdout"
        }
      ]
    },
    {
      "cell_type": "markdown",
      "metadata": {
        "id": "FSOx6oV-ARhK"
      },
      "source": [
        "### NN Architecture (`jax.experimental.stax`)"
      ]
    },
    {
      "cell_type": "code",
      "metadata": {
        "id": "a1Okyn7wAMiD"
      },
      "source": [
        "# {Dense(1024) -> ReLU}x2 -> Dense(10) -> LogSoftmax\n",
        "init_random_params, predict = stax.serial(\n",
        "    stax.Dense(1024), stax.Relu,\n",
        "    stax.Dense(1024), stax.Relu,\n",
        "    stax.Dense(10), stax.LogSoftmax)"
      ],
      "execution_count": null,
      "outputs": []
    },
    {
      "cell_type": "markdown",
      "metadata": {
        "id": "1Ia9ELngAWvT"
      },
      "source": [
        "### Utility functions"
      ]
    },
    {
      "cell_type": "code",
      "metadata": {
        "id": "WKOnJMEpU-B2"
      },
      "source": [
        "# Utility functions in jax\n",
        "\n",
        "def one_hot_nojit(x, k, dtype=jnp.float32):\n",
        "    \"\"\" Create a one-hot encoding of x of size k. \"\"\"\n",
        "    return jnp.array(x[:, None] == jnp.arange(k), dtype)\n",
        "one_hot = jit(partial(one_hot_nojit, k=num_classes, dtype=jnp.float32))\n",
        "\n",
        "@jit\n",
        "def loss(params, batch):\n",
        "    \"\"\" Cross-entropy loss over a minibatch. \"\"\"\n",
        "    inputs, targets = batch\n",
        "    return jnp.mean(jnp.sum( -targets*predict(params, inputs), axis=1))\n",
        "\n",
        "@jit\n",
        "def pred_check(params, batch):\n",
        "    \"\"\" Correct predictions over a minibatch. \"\"\"\n",
        "    inputs, targets = batch\n",
        "    predicted_class = jnp.argmax(predict(params, inputs), axis=1)\n",
        "    return jnp.sum(predicted_class == targets)\n",
        "\n",
        "@jit\n",
        "def update(i, opt_state, batch):\n",
        "    \"\"\" Single optimization step over a minibatch. \"\"\"\n",
        "    params = get_params(opt_state)\n",
        "    return opt_update(i, grad(loss)(params, batch), opt_state)"
      ],
      "execution_count": null,
      "outputs": []
    },
    {
      "cell_type": "code",
      "metadata": {
        "id": "IHy9lC5OwaZe"
      },
      "source": [
        "class MetricAccumulator(object):\n",
        "    \"\"\" Class for collecting and plotting training/testing metrics. \"\"\"\n",
        "\n",
        "    def __init__(self, metric_list):\n",
        "        metric_dict = {}\n",
        "        for met in metric_list:\n",
        "            metric_dict[met] = []\n",
        "\n",
        "        self.metric_dict = metric_dict\n",
        "\n",
        "    def update(self, metric_dict):\n",
        "        for met in self.metric_dict.keys():\n",
        "            self.metric_dict[met].append(metric_dict[met])\n",
        "\n",
        "    def plot(self):\n",
        "        fig, ax = plt.subplots()\n",
        "        fig.suptitle('Per-epoch Metrics')\n",
        "\n",
        "        for met in self.metric_dict.keys():\n",
        "            y_axis = self.metric_dict[met]\n",
        "            x_axis = np.arange(len(y_axis))\n",
        "            ax.plot(x_axis, y_axis, linewidth=2, label=met)\n",
        "\n",
        "        plt.xlabel('Epochs')\n",
        "        plt.ylabel('Acc')\n",
        "        ax.legend(fancybox=True)\n",
        "        ax.grid()\n",
        "        plt.show()"
      ],
      "execution_count": null,
      "outputs": []
    },
    {
      "cell_type": "markdown",
      "metadata": {
        "id": "CpeJVONdAdK6"
      },
      "source": [
        "### Initialization"
      ]
    },
    {
      "cell_type": "code",
      "metadata": {
        "id": "jpnLWgN-LrWv"
      },
      "source": [
        "# Initialize Network, Optimizer\n",
        "opt_init, opt_update, get_params = optimizers.momentum(step_size, mass=momentum_mass)\n",
        "_, init_params = init_random_params(rng, input_shape)\n",
        "opt_state = opt_init(init_params)\n",
        "\n",
        "# Counter\n",
        "itercount = itertools.count()"
      ],
      "execution_count": null,
      "outputs": []
    },
    {
      "cell_type": "markdown",
      "metadata": {
        "id": "G8UHBTorAhaH"
      },
      "source": [
        "### Training/Evaluation"
      ]
    },
    {
      "cell_type": "code",
      "metadata": {
        "colab": {
          "base_uri": "https://localhost:8080/"
        },
        "id": "jIniXvX1IU-o",
        "outputId": "658b79f3-4efb-4747-e89b-18510f9d7ed0"
      },
      "source": [
        "print(\"\\nStarting training...\\n\")\n",
        "\n",
        "MetAcc = MetricAccumulator(metric_list=['TrainAcc', 'TestAcc'])\n",
        "\n",
        "for epoch in range(num_epochs):\n",
        "    train_acc, test_acc = [], []\n",
        "\n",
        "    # Training\n",
        "    start_time = time.time()\n",
        "    \n",
        "    for batch_raw in ds_train:\n",
        "        data = batch_raw[\"image\"].reshape(*reshape_args[0])\n",
        "        targets = one_hot(batch_raw[\"label\"].reshape(*reshape_args[1]))\n",
        "        opt_state = update(next(itercount), opt_state, (data, targets))\n",
        "    \n",
        "    epoch_time = time.time() - start_time\n",
        "    print(\"\\nEpoch {} in {:0.2f} sec\".format(epoch+1, epoch_time))\n",
        "\n",
        "    params = get_params(opt_state)\n",
        "\n",
        "    # Train Acc\n",
        "    correct_preds = 0.0\n",
        "    for batch_raw in ds_train:\n",
        "        data = batch_raw[\"image\"].reshape(*reshape_args[0])\n",
        "        targets = batch_raw[\"label\"].reshape(*reshape_args[1])\n",
        "        correct_preds += pred_check(params, (data, targets))\n",
        "    train_acc.append(correct_preds/float(total_train_imgs))\n",
        "    print(f\"Training set accuracy: {train_acc}\")\n",
        "    \n",
        "    # Test Acc\n",
        "    correct_preds = 0.0\n",
        "    for batch_raw in ds_test:\n",
        "        data = batch_raw[\"image\"].reshape(*reshape_args[0])\n",
        "        targets = batch_raw[\"label\"].reshape(*reshape_args[1])\n",
        "        correct_preds += pred_check(params, (data, targets))\n",
        "    test_acc.append(correct_preds/float(total_test_imgs))\n",
        "    print(f\"Test set accuracy: {test_acc}\")\n",
        "\n",
        "    MetAcc.update({'TrainAcc': train_acc, 'TestAcc': test_acc})"
      ],
      "execution_count": null,
      "outputs": [
        {
          "output_type": "stream",
          "text": [
            "\n",
            "Starting training...\n",
            "\n",
            "\n",
            "Epoch 1 in 8.51 sec\n",
            "Training set accuracy: [DeviceArray(0.9573667, dtype=float32)]\n",
            "Test set accuracy: [DeviceArray(0.9473, dtype=float32)]\n",
            "\n",
            "Epoch 2 in 0.57 sec\n",
            "Training set accuracy: [DeviceArray(0.9745, dtype=float32)]\n",
            "Test set accuracy: [DeviceArray(0.9585, dtype=float32)]\n",
            "\n",
            "Epoch 3 in 0.57 sec\n",
            "Training set accuracy: [DeviceArray(0.9821, dtype=float32)]\n",
            "Test set accuracy: [DeviceArray(0.96360004, dtype=float32)]\n",
            "\n",
            "Epoch 4 in 0.58 sec\n",
            "Training set accuracy: [DeviceArray(0.9863833, dtype=float32)]\n",
            "Test set accuracy: [DeviceArray(0.96470004, dtype=float32)]\n",
            "\n",
            "Epoch 5 in 0.59 sec\n",
            "Training set accuracy: [DeviceArray(0.9914, dtype=float32)]\n",
            "Test set accuracy: [DeviceArray(0.96660006, dtype=float32)]\n",
            "\n",
            "Epoch 6 in 0.63 sec\n",
            "Training set accuracy: [DeviceArray(0.99301666, dtype=float32)]\n",
            "Test set accuracy: [DeviceArray(0.96620005, dtype=float32)]\n",
            "\n",
            "Epoch 7 in 0.57 sec\n",
            "Training set accuracy: [DeviceArray(0.99445003, dtype=float32)]\n",
            "Test set accuracy: [DeviceArray(0.96760005, dtype=float32)]\n",
            "\n",
            "Epoch 8 in 0.59 sec\n",
            "Training set accuracy: [DeviceArray(0.9964167, dtype=float32)]\n",
            "Test set accuracy: [DeviceArray(0.96860003, dtype=float32)]\n",
            "\n",
            "Epoch 9 in 0.57 sec\n",
            "Training set accuracy: [DeviceArray(0.99685, dtype=float32)]\n",
            "Test set accuracy: [DeviceArray(0.96880007, dtype=float32)]\n",
            "\n",
            "Epoch 10 in 0.63 sec\n",
            "Training set accuracy: [DeviceArray(0.9984667, dtype=float32)]\n",
            "Test set accuracy: [DeviceArray(0.9703, dtype=float32)]\n"
          ],
          "name": "stdout"
        }
      ]
    },
    {
      "cell_type": "code",
      "metadata": {
        "id": "dHx16pWRKxy_",
        "colab": {
          "base_uri": "https://localhost:8080/",
          "height": 308
        },
        "outputId": "54a1b09c-256e-46c8-cea9-d05f15e201f9"
      },
      "source": [
        "MetAcc.plot()"
      ],
      "execution_count": null,
      "outputs": [
        {
          "output_type": "display_data",
          "data": {
            "image/png": "[encoded data removed]",
            "text/plain": [
              "<Figure size 432x288 with 1 Axes>"
            ]
          },
          "metadata": {
            "tags": [],
            "needs_background": "light"
          }
        }
      ]
    }
  ]
}